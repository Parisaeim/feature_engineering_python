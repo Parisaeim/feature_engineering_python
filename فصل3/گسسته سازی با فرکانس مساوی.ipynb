{
 "cells": [
  {
   "cell_type": "code",
   "execution_count": 1,
   "id": "dfd431e6-39e9-4488-ab7d-0a117f07b96e",
   "metadata": {},
   "outputs": [],
   "source": [
    "import pandas as pd\n",
    "import matplotlib.pyplot as plt\n",
    "from sklearn.model_selection import train_test_split"
   ]
  },
  {
   "cell_type": "code",
   "execution_count": 2,
   "id": "25cd8c87-881b-47b3-93c5-2b2f13b056e1",
   "metadata": {},
   "outputs": [],
   "source": [
    "data = pd.read_csv('BostonHousing.csv')"
   ]
  },
  {
   "cell_type": "code",
   "execution_count": 3,
   "id": "9efc5154-d57b-4c04-905a-8f166c7fe07e",
   "metadata": {},
   "outputs": [
    {
     "data": {
      "text/html": [
       "<div>\n",
       "<style scoped>\n",
       "    .dataframe tbody tr th:only-of-type {\n",
       "        vertical-align: middle;\n",
       "    }\n",
       "\n",
       "    .dataframe tbody tr th {\n",
       "        vertical-align: top;\n",
       "    }\n",
       "\n",
       "    .dataframe thead th {\n",
       "        text-align: right;\n",
       "    }\n",
       "</style>\n",
       "<table border=\"1\" class=\"dataframe\">\n",
       "  <thead>\n",
       "    <tr style=\"text-align: right;\">\n",
       "      <th></th>\n",
       "      <th>crim</th>\n",
       "      <th>zn</th>\n",
       "      <th>indus</th>\n",
       "      <th>chas</th>\n",
       "      <th>nox</th>\n",
       "      <th>rm</th>\n",
       "      <th>age</th>\n",
       "      <th>dis</th>\n",
       "      <th>rad</th>\n",
       "      <th>tax</th>\n",
       "      <th>ptratio</th>\n",
       "      <th>b</th>\n",
       "      <th>lstat</th>\n",
       "      <th>medv</th>\n",
       "    </tr>\n",
       "  </thead>\n",
       "  <tbody>\n",
       "    <tr>\n",
       "      <th>0</th>\n",
       "      <td>0.00632</td>\n",
       "      <td>18.0</td>\n",
       "      <td>2.31</td>\n",
       "      <td>0</td>\n",
       "      <td>0.538</td>\n",
       "      <td>6.575</td>\n",
       "      <td>65.2</td>\n",
       "      <td>4.0900</td>\n",
       "      <td>1</td>\n",
       "      <td>296</td>\n",
       "      <td>15.3</td>\n",
       "      <td>396.90</td>\n",
       "      <td>4.98</td>\n",
       "      <td>24.0</td>\n",
       "    </tr>\n",
       "    <tr>\n",
       "      <th>1</th>\n",
       "      <td>0.02731</td>\n",
       "      <td>0.0</td>\n",
       "      <td>7.07</td>\n",
       "      <td>0</td>\n",
       "      <td>0.469</td>\n",
       "      <td>6.421</td>\n",
       "      <td>78.9</td>\n",
       "      <td>4.9671</td>\n",
       "      <td>2</td>\n",
       "      <td>242</td>\n",
       "      <td>17.8</td>\n",
       "      <td>396.90</td>\n",
       "      <td>9.14</td>\n",
       "      <td>21.6</td>\n",
       "    </tr>\n",
       "    <tr>\n",
       "      <th>2</th>\n",
       "      <td>0.02729</td>\n",
       "      <td>0.0</td>\n",
       "      <td>7.07</td>\n",
       "      <td>0</td>\n",
       "      <td>0.469</td>\n",
       "      <td>7.185</td>\n",
       "      <td>61.1</td>\n",
       "      <td>4.9671</td>\n",
       "      <td>2</td>\n",
       "      <td>242</td>\n",
       "      <td>17.8</td>\n",
       "      <td>392.83</td>\n",
       "      <td>4.03</td>\n",
       "      <td>34.7</td>\n",
       "    </tr>\n",
       "    <tr>\n",
       "      <th>3</th>\n",
       "      <td>0.03237</td>\n",
       "      <td>0.0</td>\n",
       "      <td>2.18</td>\n",
       "      <td>0</td>\n",
       "      <td>0.458</td>\n",
       "      <td>6.998</td>\n",
       "      <td>45.8</td>\n",
       "      <td>6.0622</td>\n",
       "      <td>3</td>\n",
       "      <td>222</td>\n",
       "      <td>18.7</td>\n",
       "      <td>394.63</td>\n",
       "      <td>2.94</td>\n",
       "      <td>33.4</td>\n",
       "    </tr>\n",
       "    <tr>\n",
       "      <th>4</th>\n",
       "      <td>0.06905</td>\n",
       "      <td>0.0</td>\n",
       "      <td>2.18</td>\n",
       "      <td>0</td>\n",
       "      <td>0.458</td>\n",
       "      <td>7.147</td>\n",
       "      <td>54.2</td>\n",
       "      <td>6.0622</td>\n",
       "      <td>3</td>\n",
       "      <td>222</td>\n",
       "      <td>18.7</td>\n",
       "      <td>396.90</td>\n",
       "      <td>5.33</td>\n",
       "      <td>36.2</td>\n",
       "    </tr>\n",
       "  </tbody>\n",
       "</table>\n",
       "</div>"
      ],
      "text/plain": [
       "      crim    zn  indus  chas    nox     rm   age     dis  rad  tax  ptratio  \\\n",
       "0  0.00632  18.0   2.31     0  0.538  6.575  65.2  4.0900    1  296     15.3   \n",
       "1  0.02731   0.0   7.07     0  0.469  6.421  78.9  4.9671    2  242     17.8   \n",
       "2  0.02729   0.0   7.07     0  0.469  7.185  61.1  4.9671    2  242     17.8   \n",
       "3  0.03237   0.0   2.18     0  0.458  6.998  45.8  6.0622    3  222     18.7   \n",
       "4  0.06905   0.0   2.18     0  0.458  7.147  54.2  6.0622    3  222     18.7   \n",
       "\n",
       "        b  lstat  medv  \n",
       "0  396.90   4.98  24.0  \n",
       "1  396.90   9.14  21.6  \n",
       "2  392.83   4.03  34.7  \n",
       "3  394.63   2.94  33.4  \n",
       "4  396.90   5.33  36.2  "
      ]
     },
     "execution_count": 3,
     "metadata": {},
     "output_type": "execute_result"
    }
   ],
   "source": [
    "data.head()"
   ]
  },
  {
   "cell_type": "code",
   "execution_count": 4,
   "id": "e28d56b4-61da-4819-8587-29f6c8dc6be3",
   "metadata": {},
   "outputs": [
    {
     "data": {
      "text/plain": [
       "((354, 13), (152, 13))"
      ]
     },
     "execution_count": 4,
     "metadata": {},
     "output_type": "execute_result"
    }
   ],
   "source": [
    "x_train, x_test, y_train, y_test = train_test_split(data.drop('medv',axis=1), data['medv'], test_size=0.3, random_state=0)\n",
    "x_train.shape, x_test.shape"
   ]
  },
  {
   "cell_type": "markdown",
   "id": "48f84d2c-bba0-4d21-9b2a-662f13aa85b4",
   "metadata": {},
   "source": [
    "# گسسته سازی با فرکانس مساوی در کتابخانه Pandas:"
   ]
  },
  {
   "cell_type": "code",
   "execution_count": 5,
   "id": "dadfc94c-64d8-4c71-98cc-336a0230fb68",
   "metadata": {},
   "outputs": [
    {
     "data": {
      "text/plain": [
       "array([ 1.73 ,  4.623,  6.202,  7.528,  9.5  , 11.16 , 13.26 , 15.565,\n",
       "       18.06 , 22.453, 36.98 ])"
      ]
     },
     "execution_count": 5,
     "metadata": {},
     "output_type": "execute_result"
    }
   ],
   "source": [
    "# در ادامه ستون lstat به ده قسمت تقسیم میشود که هر قسمت تقریبا به تعداد مساوی نمونه دارد\n",
    "x_train['lstat_disc'], intervals = pd.qcut(x_train['lstat'],10, labels=None, retbins=True, precision=3, duplicates='raise')\n",
    "intervals"
   ]
  },
  {
   "cell_type": "code",
   "execution_count": 6,
   "id": "666109d4-3bcc-418d-9e58-384e944c2fcc",
   "metadata": {},
   "outputs": [
    {
     "name": "stdout",
     "output_type": "stream",
     "text": [
      "     lstat       lstat_disc\n",
      "141  34.41  (22.453, 36.98]\n",
      "272   7.73     (7.528, 9.5]\n",
      "135  16.96  (15.565, 18.06]\n",
      "298   4.97   (4.623, 6.202]\n",
      "122  17.93  (15.565, 18.06]\n",
      "22   18.72  (18.06, 22.453]\n",
      "68   13.09   (11.16, 13.26]\n",
      "20   21.02  (18.06, 22.453]\n",
      "437  26.45  (22.453, 36.98]\n",
      "14   10.26     (9.5, 11.16]\n"
     ]
    }
   ],
   "source": [
    "print(x_train[['lstat','lstat_disc']].head(10))"
   ]
  },
  {
   "cell_type": "code",
   "execution_count": 7,
   "id": "a1bc5b1d-992d-4fcb-a72b-35007c758513",
   "metadata": {},
   "outputs": [
    {
     "data": {
      "text/plain": [
       "lstat_disc\n",
       "(7.528, 9.5]       0.104520\n",
       "(1.729, 4.623]     0.101695\n",
       "(13.26, 15.565]    0.101695\n",
       "(15.565, 18.06]    0.101695\n",
       "(22.453, 36.98]    0.101695\n",
       "(4.623, 6.202]     0.098870\n",
       "(6.202, 7.528]     0.098870\n",
       "(11.16, 13.26]     0.098870\n",
       "(9.5, 11.16]       0.096045\n",
       "(18.06, 22.453]    0.096045\n",
       "Name: count, dtype: float64"
      ]
     },
     "execution_count": 7,
     "metadata": {},
     "output_type": "execute_result"
    }
   ],
   "source": [
    "# بررسی درصد مشاهدات هر بازه. آنها باید تقریبا مشابه باشند\n",
    "x_train['lstat_disc'].value_counts() / len(x_train)"
   ]
  },
  {
   "cell_type": "code",
   "execution_count": 8,
   "id": "7925081d-7518-4fb9-b46b-1b60eeb17118",
   "metadata": {},
   "outputs": [],
   "source": [
    "# اکنون متغیر lstat را در مجموعه تست گسسته سازی میکنیم ولی مرزبندی جدیدی نمیسازیم و از همان باکت بندی که روی داده آموزش استفاده کردیم برای داده تست هم استفاده میکنیم\n",
    "x_test['lstat_disc'] = pd.cut(x=x_test['lstat'], bins=intervals)"
   ]
  },
  {
   "cell_type": "code",
   "execution_count": 9,
   "id": "e8ce078d-c52b-499d-bc0b-a7385beb07e4",
   "metadata": {},
   "outputs": [
    {
     "data": {
      "text/plain": [
       "lstat_disc\n",
       "(7.528, 9.5]       0.131579\n",
       "(13.26, 15.565]    0.118421\n",
       "(22.453, 36.98]    0.118421\n",
       "(11.16, 13.26]     0.111842\n",
       "(4.623, 6.202]     0.098684\n",
       "(15.565, 18.06]    0.098684\n",
       "(9.5, 11.16]       0.092105\n",
       "(1.73, 4.623]      0.085526\n",
       "(18.06, 22.453]    0.078947\n",
       "(6.202, 7.528]     0.059211\n",
       "Name: count, dtype: float64"
      ]
     },
     "execution_count": 9,
     "metadata": {},
     "output_type": "execute_result"
    }
   ],
   "source": [
    "x_test['lstat_disc'].value_counts()/len(x_test)"
   ]
  },
  {
   "cell_type": "code",
   "execution_count": 10,
   "id": "cd16b4a3-361d-49ee-82d7-20e97b3ca642",
   "metadata": {},
   "outputs": [
    {
     "data": {
      "text/plain": [
       "Text(0, 0.5, 'Number of observations per bin')"
      ]
     },
     "execution_count": 10,
     "metadata": {},
     "output_type": "execute_result"
    },
    {
     "data": {
      "image/png": "[encoded data removed]",
      "text/plain": [
       "<Figure size 640x480 with 1 Axes>"
      ]
     },
     "metadata": {},
     "output_type": "display_data"
    }
   ],
   "source": [
    "# اگر توزیعها در مجموعه آموزش و آزمایش یکسان باشد ، باید انتظار نسبت مشابهی از مشاهدات در فواصل مختلف در مجموعه آموزش و آزمایش داشته باشیم. آن را در زیر میبینیم\n",
    "t1 = x_train['lstat_disc'].value_counts()/len(x_train)\n",
    "t2 = x_test['lstat_disc'].value_counts()/len(x_test)\n",
    "\n",
    "tmp = pd.concat([t1,t2],axis=1)\n",
    "tmp.columns = ['train','test']\n",
    "\n",
    "tmp.plot.bar()\n",
    "plt.xticks(rotation=45)\n",
    "plt.ylabel('Number of observations per bin')"
   ]
  },
  {
   "cell_type": "code",
   "execution_count": null,
   "id": "b957665c-651f-4ef1-8a60-0ce754fa549d",
   "metadata": {},
   "outputs": [],
   "source": []
  }
 ],
 "metadata": {
  "kernelspec": {
   "display_name": "Python 3 (ipykernel)",
   "language": "python",
   "name": "python3"
  },
  "language_info": {
   "codemirror_mode": {
    "name": "ipython",
    "version": 3
   },
   "file_extension": ".py",
   "mimetype": "text/x-python",
   "name": "python",
   "nbconvert_exporter": "python",
   "pygments_lexer": "ipython3",
   "version": "3.11.7"
  }
 },
 "nbformat": 4,
 "nbformat_minor": 5
}
