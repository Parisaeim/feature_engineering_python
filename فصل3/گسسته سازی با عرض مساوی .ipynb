{
 "cells": [
  {
   "cell_type": "code",
   "execution_count": 1,
   "id": "f7842bfd-567c-4f46-9a0e-6f61bb9db468",
   "metadata": {},
   "outputs": [],
   "source": [
    "import pandas as pd\n",
    "import numpy as np\n",
    "from sklearn.model_selection import train_test_split\n",
    "import matplotlib.pyplot as plt\n",
    "from sklearn.preprocessing import KBinsDiscretizer"
   ]
  },
  {
   "cell_type": "code",
   "execution_count": 2,
   "id": "4089a156-fe33-4338-b9b6-eaba170e9b24",
   "metadata": {},
   "outputs": [
    {
     "name": "stdout",
     "output_type": "stream",
     "text": [
      "Note: you may need to restart the kernel to use updated packages.\n"
     ]
    },
    {
     "name": "stderr",
     "output_type": "stream",
     "text": [
      "ERROR: Could not find a version that satisfies the requirement feature (from versions: none)\n",
      "ERROR: No matching distribution found for feature\n"
     ]
    }
   ],
   "source": [
    "pip install --upgrade feature engine"
   ]
  },
  {
   "cell_type": "code",
   "execution_count": 3,
   "id": "3ace2c6b-7436-4d97-a9e4-f6adeab11a44",
   "metadata": {},
   "outputs": [],
   "source": [
    "from feature_engine.discretisation import EqualWidthDiscretiser"
   ]
  },
  {
   "cell_type": "code",
   "execution_count": 4,
   "id": "bdcdbe4e-d63c-4d1f-a82d-a694cb2ce3c3",
   "metadata": {},
   "outputs": [],
   "source": [
    "data = pd.read_csv('BostonHousing.csv')"
   ]
  },
  {
   "cell_type": "code",
   "execution_count": 5,
   "id": "627852d8-f78c-447d-8bcc-8d69733ebd5f",
   "metadata": {},
   "outputs": [
    {
     "data": {
      "text/html": [
       "<div>\n",
       "<style scoped>\n",
       "    .dataframe tbody tr th:only-of-type {\n",
       "        vertical-align: middle;\n",
       "    }\n",
       "\n",
       "    .dataframe tbody tr th {\n",
       "        vertical-align: top;\n",
       "    }\n",
       "\n",
       "    .dataframe thead th {\n",
       "        text-align: right;\n",
       "    }\n",
       "</style>\n",
       "<table border=\"1\" class=\"dataframe\">\n",
       "  <thead>\n",
       "    <tr style=\"text-align: right;\">\n",
       "      <th></th>\n",
       "      <th>crim</th>\n",
       "      <th>zn</th>\n",
       "      <th>indus</th>\n",
       "      <th>chas</th>\n",
       "      <th>nox</th>\n",
       "      <th>rm</th>\n",
       "      <th>age</th>\n",
       "      <th>dis</th>\n",
       "      <th>rad</th>\n",
       "      <th>tax</th>\n",
       "      <th>ptratio</th>\n",
       "      <th>b</th>\n",
       "      <th>lstat</th>\n",
       "      <th>medv</th>\n",
       "    </tr>\n",
       "  </thead>\n",
       "  <tbody>\n",
       "    <tr>\n",
       "      <th>0</th>\n",
       "      <td>0.00632</td>\n",
       "      <td>18.0</td>\n",
       "      <td>2.31</td>\n",
       "      <td>0</td>\n",
       "      <td>0.538</td>\n",
       "      <td>6.575</td>\n",
       "      <td>65.2</td>\n",
       "      <td>4.0900</td>\n",
       "      <td>1</td>\n",
       "      <td>296</td>\n",
       "      <td>15.3</td>\n",
       "      <td>396.90</td>\n",
       "      <td>4.98</td>\n",
       "      <td>24.0</td>\n",
       "    </tr>\n",
       "    <tr>\n",
       "      <th>1</th>\n",
       "      <td>0.02731</td>\n",
       "      <td>0.0</td>\n",
       "      <td>7.07</td>\n",
       "      <td>0</td>\n",
       "      <td>0.469</td>\n",
       "      <td>6.421</td>\n",
       "      <td>78.9</td>\n",
       "      <td>4.9671</td>\n",
       "      <td>2</td>\n",
       "      <td>242</td>\n",
       "      <td>17.8</td>\n",
       "      <td>396.90</td>\n",
       "      <td>9.14</td>\n",
       "      <td>21.6</td>\n",
       "    </tr>\n",
       "    <tr>\n",
       "      <th>2</th>\n",
       "      <td>0.02729</td>\n",
       "      <td>0.0</td>\n",
       "      <td>7.07</td>\n",
       "      <td>0</td>\n",
       "      <td>0.469</td>\n",
       "      <td>7.185</td>\n",
       "      <td>61.1</td>\n",
       "      <td>4.9671</td>\n",
       "      <td>2</td>\n",
       "      <td>242</td>\n",
       "      <td>17.8</td>\n",
       "      <td>392.83</td>\n",
       "      <td>4.03</td>\n",
       "      <td>34.7</td>\n",
       "    </tr>\n",
       "    <tr>\n",
       "      <th>3</th>\n",
       "      <td>0.03237</td>\n",
       "      <td>0.0</td>\n",
       "      <td>2.18</td>\n",
       "      <td>0</td>\n",
       "      <td>0.458</td>\n",
       "      <td>6.998</td>\n",
       "      <td>45.8</td>\n",
       "      <td>6.0622</td>\n",
       "      <td>3</td>\n",
       "      <td>222</td>\n",
       "      <td>18.7</td>\n",
       "      <td>394.63</td>\n",
       "      <td>2.94</td>\n",
       "      <td>33.4</td>\n",
       "    </tr>\n",
       "    <tr>\n",
       "      <th>4</th>\n",
       "      <td>0.06905</td>\n",
       "      <td>0.0</td>\n",
       "      <td>2.18</td>\n",
       "      <td>0</td>\n",
       "      <td>0.458</td>\n",
       "      <td>7.147</td>\n",
       "      <td>54.2</td>\n",
       "      <td>6.0622</td>\n",
       "      <td>3</td>\n",
       "      <td>222</td>\n",
       "      <td>18.7</td>\n",
       "      <td>396.90</td>\n",
       "      <td>5.33</td>\n",
       "      <td>36.2</td>\n",
       "    </tr>\n",
       "  </tbody>\n",
       "</table>\n",
       "</div>"
      ],
      "text/plain": [
       "      crim    zn  indus  chas    nox     rm   age     dis  rad  tax  ptratio  \\\n",
       "0  0.00632  18.0   2.31     0  0.538  6.575  65.2  4.0900    1  296     15.3   \n",
       "1  0.02731   0.0   7.07     0  0.469  6.421  78.9  4.9671    2  242     17.8   \n",
       "2  0.02729   0.0   7.07     0  0.469  7.185  61.1  4.9671    2  242     17.8   \n",
       "3  0.03237   0.0   2.18     0  0.458  6.998  45.8  6.0622    3  222     18.7   \n",
       "4  0.06905   0.0   2.18     0  0.458  7.147  54.2  6.0622    3  222     18.7   \n",
       "\n",
       "        b  lstat  medv  \n",
       "0  396.90   4.98  24.0  \n",
       "1  396.90   9.14  21.6  \n",
       "2  392.83   4.03  34.7  \n",
       "3  394.63   2.94  33.4  \n",
       "4  396.90   5.33  36.2  "
      ]
     },
     "execution_count": 5,
     "metadata": {},
     "output_type": "execute_result"
    }
   ],
   "source": [
    "data.head()"
   ]
  },
  {
   "cell_type": "code",
   "execution_count": 6,
   "id": "db16b0aa-1580-4984-9d47-00bc19a1a7bc",
   "metadata": {},
   "outputs": [
    {
     "data": {
      "text/plain": [
       "((354, 13), (152, 13))"
      ]
     },
     "execution_count": 6,
     "metadata": {},
     "output_type": "execute_result"
    }
   ],
   "source": [
    "x_train, x_test, y_train, y_test = train_test_split(data.drop('medv',axis=1),data['medv'],test_size=0.3,random_state=0)\n",
    "x_train.shape, x_test.shape"
   ]
  },
  {
   "cell_type": "markdown",
   "id": "1e15a32f-c368-4b21-9e58-325e85b9a524",
   "metadata": {},
   "source": [
    "# گسسته سازی با بخشهای مساوی و کتابخانه Pandas:"
   ]
  },
  {
   "cell_type": "code",
   "execution_count": 7,
   "id": "1f40d8ac-13f1-4db0-977d-9df909e9aec1",
   "metadata": {},
   "outputs": [
    {
     "data": {
      "text/plain": [
       "35.25"
      ]
     },
     "execution_count": 7,
     "metadata": {},
     "output_type": "execute_result"
    }
   ],
   "source": [
    "# ابتدا محدوده مقادیر متغیر را پیدا کنیم\n",
    "lstat_range= x_train['lstat'].max() - x_train['lstat'].min()\n",
    "lstat_range"
   ]
  },
  {
   "cell_type": "code",
   "execution_count": 8,
   "id": "10c76ef9-4cff-4b64-b19c-98e311d5c9e5",
   "metadata": {},
   "outputs": [
    {
     "data": {
      "text/plain": [
       "3.525"
      ]
     },
     "execution_count": 8,
     "metadata": {},
     "output_type": "execute_result"
    }
   ],
   "source": [
    "# سپس محدوده را به ده بخش با عرض مساوی تقسیم کنیم\n",
    "lstat_range / 10"
   ]
  },
  {
   "cell_type": "code",
   "execution_count": 9,
   "id": "b29d1395-9278-42c0-8465-d3fb209c53bc",
   "metadata": {},
   "outputs": [
    {
     "data": {
      "text/plain": [
       "(3, 1, 37)"
      ]
     },
     "execution_count": 9,
     "metadata": {},
     "output_type": "execute_result"
    }
   ],
   "source": [
    "# حالا مرزهای بالا و پایین را به دست بیاوریم\n",
    "min_value = int(np.floor(x_train['lstat'].min()))\n",
    "max_value = int(np.ceil(x_train['lstat'].max()))\n",
    "inter_width = int(lstat_range/10)\n",
    "inter_width, min_value, max_value"
   ]
  },
  {
   "cell_type": "code",
   "execution_count": 10,
   "id": "e0be38e9-cea4-4ad0-806a-7bc3aeb12a1e",
   "metadata": {},
   "outputs": [
    {
     "data": {
      "text/plain": [
       "[1, 4, 7, 10, 13, 16, 19, 22, 25, 28, 31, 34, 37]"
      ]
     },
     "execution_count": 10,
     "metadata": {},
     "output_type": "execute_result"
    }
   ],
   "source": [
    "# ساختن لیستی از نقاط تقسیم (بین‌ها) با فاصله‌های مساوی\n",
    "intervals = [i for i in range(min_value,max_value+inter_width,inter_width)]\n",
    "intervals"
   ]
  },
  {
   "cell_type": "code",
   "execution_count": 11,
   "id": "ee6e99ad-0499-466b-9e85-28a621836618",
   "metadata": {},
   "outputs": [
    {
     "name": "stdout",
     "output_type": "stream",
     "text": [
      "     lstat    lstat_disc\n",
      "141  34.41  (34.0, 37.0]\n",
      "272   7.73   (7.0, 10.0]\n",
      "135  16.96  (16.0, 19.0]\n",
      "298   4.97    (4.0, 7.0]\n",
      "122  17.93  (16.0, 19.0]\n",
      "22   18.72  (16.0, 19.0]\n",
      "68   13.09  (13.0, 16.0]\n",
      "20   21.02  (19.0, 22.0]\n",
      "437  26.45  (25.0, 28.0]\n",
      "14   10.26  (10.0, 13.0]\n"
     ]
    }
   ],
   "source": [
    "#گسسته سازی ستون lstat\n",
    "x_train['lstat_disc']=pd.cut(x=x_train['lstat'], bins=intervals, include_lowest=True)\n",
    "x_test['lstat_disc']=pd.cut(x=x_test['lstat'], bins=intervals, include_lowest=True)\n",
    "print(x_train[['lstat', 'lstat_disc']].head(10))"
   ]
  },
  {
   "cell_type": "code",
   "execution_count": 12,
   "id": "731fb1aa-ed88-466e-9903-30b97d796cf0",
   "metadata": {},
   "outputs": [
    {
     "data": {
      "text/plain": [
       "lstat_disc\n",
       "(4.0, 7.0]      67\n",
       "(7.0, 10.0]     63\n",
       "(10.0, 13.0]    49\n",
       "(16.0, 19.0]    45\n",
       "(13.0, 16.0]    44\n",
       "(0.999, 4.0]    28\n",
       "(19.0, 22.0]    21\n",
       "(22.0, 25.0]    17\n",
       "(28.0, 31.0]     9\n",
       "(25.0, 28.0]     7\n",
       "(34.0, 37.0]     4\n",
       "(31.0, 34.0]     0\n",
       "Name: count, dtype: int64"
      ]
     },
     "execution_count": 12,
     "metadata": {},
     "output_type": "execute_result"
    }
   ],
   "source": [
    "#نمایش تعداد نمونه‌هایی که در هر بازه قرار میگیرد\n",
    "x_train['lstat_disc'].value_counts()"
   ]
  },
  {
   "cell_type": "code",
   "execution_count": 13,
   "id": "45531b2b-8d37-458c-af74-beb97cdc0919",
   "metadata": {},
   "outputs": [
    {
     "name": "stderr",
     "output_type": "stream",
     "text": [
      "C:\\Users\\Sharif\\AppData\\Local\\Temp\\ipykernel_4720\\3679566660.py:2: FutureWarning: The default of observed=False is deprecated and will be changed to True in a future version of pandas. Pass observed=False to retain current behavior or observed=True to adopt the future default and silence this warning.\n",
      "  x_train.groupby('lstat_disc')['lstat'].count().plot.bar()\n"
     ]
    },
    {
     "data": {
      "text/plain": [
       "Text(0, 0.5, 'تعداد نمونه\\u200cها در هر بین')"
      ]
     },
     "execution_count": 13,
     "metadata": {},
     "output_type": "execute_result"
    },
    {
     "data": {
      "image/png": "[encoded data removed]",
      "text/plain": [
       "<Figure size 640x480 with 1 Axes>"
      ]
     },
     "metadata": {},
     "output_type": "display_data"
    }
   ],
   "source": [
    "# رسم مشاهدات در هر دسته\n",
    "x_train.groupby('lstat_disc')['lstat'].count().plot.bar()\n",
    "plt.xticks(rotation=45)\n",
    "plt.ylabel('تعداد نمونه‌ها در هر بین')"
   ]
  },
  {
   "cell_type": "code",
   "execution_count": null,
   "id": "1719d5df-4a33-4b02-97b3-43b9977cef93",
   "metadata": {},
   "outputs": [],
   "source": []
  }
 ],
 "metadata": {
  "kernelspec": {
   "display_name": "Python 3 (ipykernel)",
   "language": "python",
   "name": "python3"
  },
  "language_info": {
   "codemirror_mode": {
    "name": "ipython",
    "version": 3
   },
   "file_extension": ".py",
   "mimetype": "text/x-python",
   "name": "python",
   "nbconvert_exporter": "python",
   "pygments_lexer": "ipython3",
   "version": "3.11.7"
  }
 },
 "nbformat": 4,
 "nbformat_minor": 5
}
