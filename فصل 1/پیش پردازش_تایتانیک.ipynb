{
 "cells": [
  {
   "cell_type": "code",
   "execution_count": 1,
   "id": "04131224-1dd9-4c8f-8ac1-c8993a7254a7",
   "metadata": {},
   "outputs": [],
   "source": [
    "import numpy as np\n",
    "import pandas as pd"
   ]
  },
  {
   "cell_type": "markdown",
   "id": "e1095190-059c-4429-8d9b-2585b0d00dca",
   "metadata": {},
   "source": [
    "قرار هست با دیتاست تایتانیک کار کنیم. این دیتاست ستونی بنام کابین دارد که مربوط به شماره کابین مسافران هست. این ستون ممکن است مقدارهای رشته ای یا مقدار نال داشته باشد که میبایست به کمک تابع زیر به لیست تبدیل شوند .این تابع همچنین با دستور [0] اگر چند مقدار در لیست وجود داشت، اولین مقدار آن را برمیگرداند."
   ]
  },
  {
   "cell_type": "code",
   "execution_count": 2,
   "id": "5c9f3419-122f-491c-890e-07f9e182d420",
   "metadata": {},
   "outputs": [],
   "source": [
    "def get_first_cabin(row):\n",
    "    try:\n",
    "        return row.split()[0]\n",
    "    except:\n",
    "        return np.nan "
   ]
  },
  {
   "cell_type": "markdown",
   "id": "beb2771e-0865-46c5-b4e6-37fc9320f1fe",
   "metadata": {},
   "source": [
    "تابع اسپلیت، رشته را از جایی که فاصله دارد برش میدهد و لیستی از واژه ها میسازد."
   ]
  },
  {
   "cell_type": "code",
   "execution_count": null,
   "id": "a074b5d5-01e1-4354-95f5-3c4b28e6d17d",
   "metadata": {},
   "outputs": [],
   "source": [
    "data = pd.read_csv('https://www.openml.org/data/get_csv/16826755/phpMYEkMl')\n",
    "data = data.replace('?', np.nan)\n",
    "data['cabin'] = data['cabin'].apply(get_first_cabin)\n",
    "data.to_csv('titanic.csv', index=False)"
   ]
  }
 ],
 "metadata": {
  "kernelspec": {
   "display_name": "Python 3 (ipykernel)",
   "language": "python",
   "name": "python3"
  },
  "language_info": {
   "codemirror_mode": {
    "name": "ipython",
    "version": 3
   },
   "file_extension": ".py",
   "mimetype": "text/x-python",
   "name": "python",
   "nbconvert_exporter": "python",
   "pygments_lexer": "ipython3",
   "version": "3.11.7"
  }
 },
 "nbformat": 4,
 "nbformat_minor": 5
}
